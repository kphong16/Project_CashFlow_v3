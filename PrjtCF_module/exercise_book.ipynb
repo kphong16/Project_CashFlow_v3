{
 "cells": [
  {
   "cell_type": "code",
   "execution_count": 1,
   "metadata": {},
   "outputs": [],
   "source": [
    "import importlib\n",
    "import pandas as pd\n",
    "import numpy as np\n",
    "import account as acc"
   ]
  },
  {
   "cell_type": "code",
   "execution_count": 2,
   "metadata": {},
   "outputs": [
    {
     "data": {
      "text/plain": [
       "<module 'account' from '/Users/KP_Hong/Documents/PyPrjt/[lib]PrjtCashFlowModel_v3/PrjtCF_module/account.py'>"
      ]
     },
     "execution_count": 2,
     "metadata": {},
     "output_type": "execute_result"
    }
   ],
   "source": [
    "importlib.reload(acc)"
   ]
  },
  {
   "cell_type": "code",
   "execution_count": 5,
   "metadata": {},
   "outputs": [],
   "source": [
    "prdtA_rent = 21_000 # 월 임대료 21,000원/평 가정\n",
    "prdtA_area = 7_908 # 면적 7,908평\n",
    "prdtA_cap = 0.053 # Cap rate 5.3%\n",
    "prdtA_amt = prdtA_rent * 12 * prdtA_area / prdtA_cap / 1_000_000"
   ]
  },
  {
   "cell_type": "code",
   "execution_count": 6,
   "metadata": {},
   "outputs": [
    {
     "data": {
      "text/plain": [
       "37600.301886792455"
      ]
     },
     "execution_count": 6,
     "metadata": {},
     "output_type": "execute_result"
    }
   ],
   "source": [
    "prdtA_amt"
   ]
  },
  {
   "cell_type": "code",
   "execution_count": 7,
   "metadata": {},
   "outputs": [],
   "source": [
    "# Product B : 저온창고\n",
    "prdtB_rent = 50_000 # 월 임대료 50,000원/평 가정\n",
    "prdtB_area = 6_455 # 면적 6_455평\n",
    "prdtB_cap = 0.058 # Cap rate 5.8%\n",
    "prdtB_amt = prdtB_rent * 12 * prdtB_area / prdtB_cap / 1_000_000"
   ]
  },
  {
   "cell_type": "code",
   "execution_count": 8,
   "metadata": {},
   "outputs": [
    {
     "data": {
      "text/plain": [
       "66775.86206896552"
      ]
     },
     "execution_count": 8,
     "metadata": {},
     "output_type": "execute_result"
    }
   ],
   "source": [
    "prdtB_amt"
   ]
  },
  {
   "cell_type": "code",
   "execution_count": 17,
   "metadata": {},
   "outputs": [],
   "source": [
    "#### INPUT BASIC DATA ####\n",
    "mtrt = 26 #개월\n",
    "prd_prjt = 24 #개월(프로젝트 기간)\n",
    "repay_rate = 1.0 #상환비율(매출 발생금액 중 상환계좌 이체 비율)\n",
    "#### INPUT BASIC DATA ####"
   ]
  },
  {
   "cell_type": "code",
   "execution_count": 18,
   "metadata": {},
   "outputs": [],
   "source": [
    "#### INPUT SALES DATA ####\n",
    "# Initial sales data\n",
    "# Product A : 상온창고\n",
    "prdtA_rent = 21_000 # 월 임대료 21,000원/평 가정\n",
    "prdtA_area = 7_908 # 면적 7,908평\n",
    "prdtA_cap = 0.053 # Cap rate 5.3%\n",
    "prdtA_amt = prdtA_rent * 12 * prdtA_area / prdtA_cap / 1_000_000\n",
    "prdtA = acc.account(title=\"ProductA\", tag=(\"ProductA\", \"-\"), mtrt=mtrt,\n",
    "                         add_scdd_ipt=pd.Series([prdtA_amt], index=[0]),\n",
    "                         sub_scdd_ipt=pd.Series(np.array([1.0])* prdtA_amt, index=[24]),\n",
    "                         note=\"-\")\n",
    "prdtA.addamt(0, prdtA.add_rsdl(0))\n",
    "\n",
    "\n",
    "# Product B : 저온창고\n",
    "prdtB_rent = 50_000 # 월 임대료 50,000원/평 가정\n",
    "prdtB_area = 6_455 # 면적 6_455평\n",
    "prdtB_cap = 0.058 # Cap rate 5.8%\n",
    "prdtB_amt = prdtB_rent * 12 * prdtB_area / prdtB_cap / 1_000_000\n",
    "prdtB = acc.account(title=\"ProductB\", tag=(\"ProductB\", \"-\"), mtrt=mtrt,\n",
    "                         add_scdd_ipt=pd.Series([prdtB_amt], index=[0]),\n",
    "                         sub_scdd_ipt=pd.Series(np.array([1.0])* prdtB_amt, index=[24]),\n",
    "                         note=\"-\")\n",
    "prdtB.addamt(0, prdtB.add_rsdl(0))\n",
    "\n",
    "sales = acc.merge({'prdtA':prdtA, 'prdtB':prdtB})\n",
    "\n",
    "# Scenario of sales\n",
    "sales.dct['prdtA'].sub_exctn([24], [1.0])\n",
    "sales.dct['prdtB'].sub_exctn([24], [1.0])\n",
    "sales_rate = (sales.df.amt_sub / sales.df.add_scdd_cum).replace(np.nan, 0.0)\n",
    "#### INPUT SALES DATA ####"
   ]
  },
  {
   "cell_type": "code",
   "execution_count": 19,
   "metadata": {},
   "outputs": [],
   "source": [
    "#### INPUT COST DATA ####\n",
    "# Scenario of cost\n",
    "prcs_rate = pd.Series(np.ones(prd_prjt) * 1/prd_prjt, index=np.arange(1, prd_prjt+1)) # 공정률\n",
    "\n",
    "# Initial cost data\n",
    "cost_lnd_amt = 15_500.000 # 최초 1회 지급\n",
    "cost_lnd = acc.account(title=\"토지비\", tag=(\"토지비\", \"-\"), mtrt=mtrt,\n",
    "                    add_scdd_ipt = pd.Series([cost_lnd_amt], index=[0]),\n",
    "                    note=\"-\")\n",
    "\n",
    "cost_cstrn_amt = 46_000.000 # 공정률에 따라 지급\n",
    "cost_cstrn_prcs = acc.account(title=\"직접공사비\", tag=(\"공사비\", \"-\"), mtrt=mtrt,\n",
    "                    add_scdd_ipt = cost_cstrn_amt * 0.8 * prcs_rate, # 공사비 기성 지급 80%\n",
    "                    note=\"-\")\n",
    "cost_cstrn_rsrv = acc.account(title=\"직접공사비\", tag=(\"공사비\", \"-\"), mtrt=mtrt,\n",
    "                    add_scdd_ipt = cost_cstrn_amt * 0.2 * prcs_rate, # 공사비 지급유보 20%\n",
    "                    note=\"-\")\n",
    "\n",
    "cost_cstrnb_amt = 3_000.000 # 최초 1회 지급\n",
    "cost_cstrnb = acc.account(title=\"간접공사비\", tag=(\"공사비\", \"-\"), mtrt=mtrt,\n",
    "                    add_scdd_ipt = pd.Series([cost_cstrnb_amt], index=[0]),\n",
    "                    note=\"-\")\n",
    "\n",
    "cost_mrktg_amt = 2_000.000 # 분양률에 따라 지급\n",
    "cost_mrktg = acc.account(title=\"홍보비용\", tag=(\"홍보비\", \"-\"), mtrt=mtrt,\n",
    "                    add_scdd_ipt = cost_mrktg_amt * sales_rate,\n",
    "                    note=\"-\")\n",
    "\n",
    "cost_tax_amt = 3_000.000 # 준공시 1회 지급\n",
    "cost_tax = acc.account(title=\"제세공과금\", tag=(\"제세공과금\", \"-\"), mtrt=mtrt,\n",
    "                    add_scdd_ipt = pd.Series([cost_tax_amt], index=[prd_prjt]),\n",
    "                    note=\"-\")\n",
    "\n",
    "cost_oprtg_amt = 2_200.000 # 분양률에 따라 지급\n",
    "cost_oprtg = acc.account(title=\"신탁운영비\", tag=(\"운영비\", \"-\"), mtrt=mtrt,\n",
    "                    add_scdd_ipt = cost_oprtg_amt * sales_rate,\n",
    "                    note=\"-\")\n",
    "\n",
    "dct = {'cost_lnd':cost_lnd, 'cost_cstrn_prcs':cost_cstrn_prcs, 'cost_cstrn_rsrv':cost_cstrn_rsrv, \n",
    "       'cost_cstrnb':cost_cstrnb, 'cost_mrktg':cost_mrktg, 'cost_tax':cost_tax, 'cost_oprtg':cost_oprtg}\n",
    "cost = acc.merge(dct)\n",
    "#### INPUT COST DATA ####"
   ]
  },
  {
   "cell_type": "code",
   "execution_count": 34,
   "metadata": {},
   "outputs": [
    {
     "name": "stdout",
     "output_type": "stream",
     "text": [
      "cost_lnd <account.account object at 0x7ff693d10550>\n",
      "cost_cstrn_prcs <account.account object at 0x7ff6931868d0>\n",
      "cost_cstrn_rsrv <account.account object at 0x7ff6918901d0>\n",
      "cost_cstrnb <account.account object at 0x7ff693c4e210>\n",
      "cost_mrktg <account.account object at 0x7ff693c4c8d0>\n",
      "cost_tax <account.account object at 0x7ff693c4e110>\n",
      "cost_oprtg <account.account object at 0x7ff693d10e90>\n"
     ]
    }
   ],
   "source": [
    "for key, val in cost.dct.items():\n",
    "    print(key, val)"
   ]
  },
  {
   "cell_type": "code",
   "execution_count": 32,
   "metadata": {},
   "outputs": [
    {
     "data": {
      "text/plain": [
       "dict"
      ]
     },
     "execution_count": 32,
     "metadata": {},
     "output_type": "execute_result"
    }
   ],
   "source": [
    "type(cost.dct)"
   ]
  },
  {
   "cell_type": "code",
   "execution_count": null,
   "metadata": {},
   "outputs": [],
   "source": []
  }
 ],
 "metadata": {
  "kernelspec": {
   "display_name": "Python 3",
   "language": "python",
   "name": "python3"
  },
  "language_info": {
   "codemirror_mode": {
    "name": "ipython",
    "version": 3
   },
   "file_extension": ".py",
   "mimetype": "text/x-python",
   "name": "python",
   "nbconvert_exporter": "python",
   "pygments_lexer": "ipython3",
   "version": "3.7.6"
  }
 },
 "nbformat": 4,
 "nbformat_minor": 4
}
